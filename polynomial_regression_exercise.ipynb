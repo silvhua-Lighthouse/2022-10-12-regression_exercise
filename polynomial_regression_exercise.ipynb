{
 "cells": [
  {
   "cell_type": "markdown",
   "metadata": {},
   "source": [
    "### Regression exercise\n",
    "\n",
    "Today, we will fit different polynomial regression to randomly generated data and explore how our loss function behaves. We will use the formulas, introduced in the theoretical sections and create a linear regression model from scratch. \n"
   ]
  },
  {
   "cell_type": "markdown",
   "metadata": {},
   "source": [
    "#### Task 1\n",
    "\n",
    "Write a function psi(x,m) defined as $\\psi(x)=[1, x, x ^2, ..., x^m]$\n",
    "\n",
    "Example input: `psi(2, 3)`\n",
    "\n",
    "Example output: `[1, 2, 4, 8]`\n",
    "\n",
    "- HINT: use FOR loop with `for i in range(m+1):` inside the psi function"
   ]
  },
  {
   "cell_type": "code",
   "execution_count": 95,
   "metadata": {},
   "outputs": [
    {
     "data": {
      "text/plain": [
       "[1, 2, 4, 8]"
      ]
     },
     "execution_count": 95,
     "metadata": {},
     "output_type": "execute_result"
    }
   ],
   "source": [
    "def psi(x,m):\n",
    "    psi = []\n",
    "    for i in range(m+1):\n",
    "        psi.append(x**i)\n",
    "    return psi\n",
    "\n",
    "psi(2,3)"
   ]
  },
  {
   "cell_type": "code",
   "execution_count": 96,
   "metadata": {},
   "outputs": [],
   "source": [
    "import numpy as np"
   ]
  },
  {
   "cell_type": "markdown",
   "metadata": {},
   "source": [
    "#### Task 2\n",
    "\n",
    "Write a function $h(x,\\alpha, m)$ defined as $h(x,\\alpha, m)=\\alpha^T\\psi(x, m)$\n",
    "\n",
    "Example input: `h(2,2,3)`\n",
    "\n",
    "Example output: `array([ 2,  4,  8, 16])`\n",
    "\n",
    "- HINT: use the `np.dot` between the $\\alpha$ and the output of psi(x, m)"
   ]
  },
  {
   "cell_type": "code",
   "execution_count": 136,
   "metadata": {},
   "outputs": [
    {
     "data": {
      "text/plain": [
       "array([ 2,  4,  8, 16])"
      ]
     },
     "execution_count": 136,
     "metadata": {},
     "output_type": "execute_result"
    }
   ],
   "source": [
    "def h(x,a,m):\n",
    "    a=np.array(a).transpose()\n",
    "    return np.dot(a,psi(x,m))\n",
    "    \n",
    "h(2,2,3)"
   ]
  },
  {
   "cell_type": "code",
   "execution_count": null,
   "metadata": {},
   "outputs": [],
   "source": []
  },
  {
   "cell_type": "markdown",
   "metadata": {},
   "source": [
    "#### Task 3\n",
    "Create a random 3rd order polynomial and call it `p3`\n",
    "\n",
    "- HINT: check function `np.poly1d`"
   ]
  },
  {
   "cell_type": "code",
   "execution_count": 98,
   "metadata": {},
   "outputs": [
    {
     "name": "stdout",
     "output_type": "stream",
     "text": [
      "   3     2\n",
      "4 x + 3 x + 2 x + 1\n"
     ]
    }
   ],
   "source": [
    "p3 = np.poly1d([4,3,2,1])\n",
    "print(np.poly1d(p3))\n",
    "\n",
    "\n"
   ]
  },
  {
   "cell_type": "code",
   "execution_count": 99,
   "metadata": {},
   "outputs": [
    {
     "data": {
      "text/plain": [
       "array([4, 3, 2, 1])"
      ]
     },
     "execution_count": 99,
     "metadata": {},
     "output_type": "execute_result"
    }
   ],
   "source": [
    "f.c"
   ]
  },
  {
   "cell_type": "code",
   "execution_count": 100,
   "metadata": {},
   "outputs": [
    {
     "data": {
      "text/plain": [
       "3"
      ]
     },
     "execution_count": 100,
     "metadata": {},
     "output_type": "execute_result"
    }
   ],
   "source": [
    "f.order"
   ]
  },
  {
   "cell_type": "code",
   "execution_count": 101,
   "metadata": {},
   "outputs": [
    {
     "name": "stdout",
     "output_type": "stream",
     "text": [
      " \n",
      "4 x + 1\n"
     ]
    }
   ],
   "source": [
    "# first order polynomial\n",
    "f = np.poly1d([4,1])\n",
    "print(np.poly1d(f))"
   ]
  },
  {
   "cell_type": "markdown",
   "metadata": {},
   "source": [
    "#### Task 4\n",
    "Choose an interval `[a,b]`, on which the polynomial is S-shaped. \n",
    "\n",
    "At first we can choose random interval, for example `[-3,5)`, and come back to this task after **Task 7**."
   ]
  },
  {
   "cell_type": "code",
   "execution_count": 102,
   "metadata": {},
   "outputs": [
    {
     "data": {
      "image/png": "[encoded data removed]",
      "text/plain": [
       "<Figure size 640x480 with 1 Axes>"
      ]
     },
     "metadata": {},
     "output_type": "display_data"
    }
   ],
   "source": [
    "import matplotlib.pyplot as plt\n",
    "x = np.linspace(a,b,20)\n",
    "y = p3(x)\n",
    "plt.plot(x,y)\n",
    "a = -7\n",
    "b = 7"
   ]
  },
  {
   "cell_type": "code",
   "execution_count": null,
   "metadata": {},
   "outputs": [],
   "source": []
  },
  {
   "cell_type": "markdown",
   "metadata": {},
   "source": [
    "#### Task 5\n",
    "Sample 30 random values in [a,b] and stored them in `xs`.\n",
    "\n",
    "- HINT: use `np.random.random_sample` function\n",
    "\n",
    "Output `xs` should be numpy array with length=30 and values between `a` and `b`"
   ]
  },
  {
   "cell_type": "code",
   "execution_count": 103,
   "metadata": {},
   "outputs": [
    {
     "name": "stdout",
     "output_type": "stream",
     "text": [
      "(30,)\n"
     ]
    },
    {
     "data": {
      "text/plain": [
       "array([-4.15652216,  4.4094367 , -6.69204234,  3.68663067,  0.26848042,\n",
       "        0.11565402,  0.60552631, -4.66192984,  6.85047046,  4.175602  ,\n",
       "       -3.43179294,  2.6419994 , -4.25299427,  6.78584446,  3.53689381,\n",
       "        5.24149822,  6.42893695, -2.44175475,  0.08556244, -6.31576381,\n",
       "       -0.99027578, -2.67036151,  0.21450923,  0.95352626, -4.00983037,\n",
       "       -6.55493869,  2.77259906,  0.3953479 , -5.34458119,  5.59831024])"
      ]
     },
     "execution_count": 103,
     "metadata": {},
     "output_type": "execute_result"
    }
   ],
   "source": [
    "xs = np.random.random_sample(size=(30)) * (b-a) + a\n",
    "print(xs.shape)\n",
    "xs"
   ]
  },
  {
   "cell_type": "code",
   "execution_count": null,
   "metadata": {},
   "outputs": [],
   "source": []
  },
  {
   "cell_type": "markdown",
   "metadata": {},
   "source": [
    "#### Task 6\n",
    "For each x in xs, compute p3(x) and store them as `ys`.\n",
    "\n",
    "- HINT: `ys = p3(xs)`"
   ]
  },
  {
   "cell_type": "code",
   "execution_count": 104,
   "metadata": {},
   "outputs": [
    {
     "data": {
      "text/plain": [
       "array([-2.42726570e+02,  4.11081309e+02, -1.07680425e+03,  2.49570612e+02,\n",
       "        1.83061620e+00,  1.27762349e+00,  4.19913318e+00, -3.48404975e+02,\n",
       "        1.44142920e+03,  3.52875536e+02, -1.32199663e+02,  1.00990804e+02,\n",
       "       -2.60954074e+02,  1.40260446e+03,  2.22583400e+02,  6.69907994e+02,\n",
       "        1.20071506e+03, -4.42296017e+01,  1.19559327e+00, -8.99679700e+02,\n",
       "       -1.92305360e+00, -5.91158132e+01,  1.60654297e+00,  9.10252085e+00,\n",
       "       -2.16675515e+02, -1.00979822e+03,  1.14862379e+02,  2.50676714e+00,\n",
       "       -5.34657705e+02,  8.08048154e+02])"
      ]
     },
     "execution_count": 104,
     "metadata": {},
     "output_type": "execute_result"
    }
   ],
   "source": [
    "ys = p3(xs)\n",
    "ys"
   ]
  },
  {
   "cell_type": "code",
   "execution_count": 110,
   "metadata": {},
   "outputs": [
    {
     "data": {
      "text/plain": [
       "(30,)"
      ]
     },
     "execution_count": 110,
     "metadata": {},
     "output_type": "execute_result"
    }
   ],
   "source": [
    "ys.shape"
   ]
  },
  {
   "cell_type": "markdown",
   "metadata": {},
   "source": [
    "#### Task 7:\n",
    "Plot `ys` against `xs` on [a,b]. Does it look like a third order polynomial?\n",
    "\n",
    "Is the curve S-shaped? if not, repeat steps 3-7.\n",
    "\n",
    "- HINT: check out function `plt.scatter`\n",
    "- HINT: polynomial `p3 = np.poly1d([1,-3, 2,-1])` is S-shaped on the interval `[-3,5]`\n",
    "\n"
   ]
  },
  {
   "cell_type": "code",
   "execution_count": 105,
   "metadata": {},
   "outputs": [
    {
     "data": {
      "text/plain": [
       "<matplotlib.collections.PathCollection at 0x27b32792bb0>"
      ]
     },
     "execution_count": 105,
     "metadata": {},
     "output_type": "execute_result"
    },
    {
     "data": {
      "image/png": "[encoded data removed]",
      "text/plain": [
       "<Figure size 640x480 with 1 Axes>"
      ]
     },
     "metadata": {},
     "output_type": "display_data"
    }
   ],
   "source": [
    "plt.scatter(xs,ys)"
   ]
  },
  {
   "cell_type": "code",
   "execution_count": null,
   "metadata": {},
   "outputs": [],
   "source": []
  },
  {
   "cell_type": "markdown",
   "metadata": {},
   "source": [
    "## Fitting the data"
   ]
  },
  {
   "cell_type": "markdown",
   "metadata": {},
   "source": [
    "We will try to fit the data by a polynomial of order m=2. \n",
    "\n",
    "#### Task 8:\n",
    "\n",
    "Using xs and psi(x,m) from the **Task I**, create the matrix X defined as \n",
    "\n",
    "<img src=\"matrixX.png\">\n",
    "\n",
    "- HINT: Use a for loop and call psi(x,2) on every item in `xs`. Output should be stored as columns in matrix X.\n",
    "- HINT: For `m = 2` and `len(xs) = 30`, the `X.shape = (3,30)`"
   ]
  },
  {
   "cell_type": "code",
   "execution_count": 106,
   "metadata": {},
   "outputs": [
    {
     "data": {
      "text/plain": [
       "(3, 30)"
      ]
     },
     "execution_count": 106,
     "metadata": {},
     "output_type": "execute_result"
    }
   ],
   "source": [
    "X = np.zeros((3,30))\n",
    "X.shape"
   ]
  },
  {
   "cell_type": "code",
   "execution_count": 107,
   "metadata": {},
   "outputs": [
    {
     "name": "stdout",
     "output_type": "stream",
     "text": [
      "<class 'numpy.ndarray'>\n",
      "(30, 3)\n"
     ]
    },
    {
     "data": {
      "text/plain": [
       "array([[  1,   0,   0],\n",
       "       [  1,   1,   1],\n",
       "       [  1,   2,   4],\n",
       "       [  1,   3,   9],\n",
       "       [  1,   4,  16],\n",
       "       [  1,   5,  25],\n",
       "       [  1,   6,  36],\n",
       "       [  1,   7,  49],\n",
       "       [  1,   8,  64],\n",
       "       [  1,   9,  81],\n",
       "       [  1,  10, 100],\n",
       "       [  1,  11, 121],\n",
       "       [  1,  12, 144],\n",
       "       [  1,  13, 169],\n",
       "       [  1,  14, 196],\n",
       "       [  1,  15, 225],\n",
       "       [  1,  16, 256],\n",
       "       [  1,  17, 289],\n",
       "       [  1,  18, 324],\n",
       "       [  1,  19, 361],\n",
       "       [  1,  20, 400],\n",
       "       [  1,  21, 441],\n",
       "       [  1,  22, 484],\n",
       "       [  1,  23, 529],\n",
       "       [  1,  24, 576],\n",
       "       [  1,  25, 625],\n",
       "       [  1,  26, 676],\n",
       "       [  1,  27, 729],\n",
       "       [  1,  28, 784],\n",
       "       [  1,  29, 841]])"
      ]
     },
     "execution_count": 107,
     "metadata": {},
     "output_type": "execute_result"
    }
   ],
   "source": [
    "m=2\n",
    "X=[]\n",
    "for x in range(len(xs)):\n",
    "    X.append(psi(x,m))\n",
    "    # print(x)\n",
    "X = np.array(X)\n",
    "print(type(X))\n",
    "print(X.shape)\n",
    "X\n"
   ]
  },
  {
   "cell_type": "markdown",
   "metadata": {},
   "source": [
    "#### Task 9\n",
    "Compute the optimal $\\alpha$ using the expression $\\alpha = (XX^T)^+Xy$ where $(XX^T)^+$ is the pseudoinverse matrix. y is our `ys` from the Task 6 and X is matrix from the Task 8.\n",
    "\n",
    "- HINT: Numpy functions `np.dot`, `np.linalg.inv` and `transpose()` should be used"
   ]
  },
  {
   "cell_type": "code",
   "execution_count": 118,
   "metadata": {},
   "outputs": [
    {
     "data": {
      "text/plain": [
       "array([-142.58930549,   56.04367203,   -2.0960958 ])"
      ]
     },
     "execution_count": 118,
     "metadata": {},
     "output_type": "execute_result"
    }
   ],
   "source": [
    "\n",
    "pseudomatrix = np.linalg.pinv(np.dot(X,X.transpose()))\n",
    "np.dot(np.dot(pseudomatrix,X).transpose(),ys) \n",
    "# Jeremy said that the orientation of rows and columns in X are flipped, which is likely why an error\n",
    "# message was given if trying to calculate using the equation given by the exercise.\n"
   ]
  },
  {
   "cell_type": "code",
   "execution_count": 181,
   "metadata": {},
   "outputs": [
    {
     "ename": "LinAlgError",
     "evalue": "Singular matrix",
     "output_type": "error",
     "traceback": [
      "\u001b[1;31m---------------------------------------------------------------------------\u001b[0m",
      "\u001b[1;31mLinAlgError\u001b[0m                               Traceback (most recent call last)",
      "Cell \u001b[1;32mIn [181], line 5\u001b[0m\n\u001b[0;32m      2\u001b[0m prod \u001b[39m=\u001b[39m np\u001b[39m.\u001b[39mdot(X, X\u001b[39m.\u001b[39mT)\n\u001b[0;32m      4\u001b[0m \u001b[39m# Calculate the pseudoinverse matrix\u001b[39;00m\n\u001b[1;32m----> 5\u001b[0m pseudo \u001b[39m=\u001b[39m np\u001b[39m.\u001b[39;49mlinalg\u001b[39m.\u001b[39;49minv(prod)\n\u001b[0;32m      7\u001b[0m \u001b[39m# Calculate alpha\u001b[39;00m\n\u001b[0;32m      8\u001b[0m alpha \u001b[39m=\u001b[39m np\u001b[39m.\u001b[39mdot(np\u001b[39m.\u001b[39mdot(pseudo, X), ys)\n",
      "File \u001b[1;32m<__array_function__ internals>:180\u001b[0m, in \u001b[0;36minv\u001b[1;34m(*args, **kwargs)\u001b[0m\n",
      "File \u001b[1;32m~\\AppData\\Roaming\\Python\\Python39\\site-packages\\numpy\\linalg\\linalg.py:552\u001b[0m, in \u001b[0;36minv\u001b[1;34m(a)\u001b[0m\n\u001b[0;32m    550\u001b[0m signature \u001b[39m=\u001b[39m \u001b[39m'\u001b[39m\u001b[39mD->D\u001b[39m\u001b[39m'\u001b[39m \u001b[39mif\u001b[39;00m isComplexType(t) \u001b[39melse\u001b[39;00m \u001b[39m'\u001b[39m\u001b[39md->d\u001b[39m\u001b[39m'\u001b[39m\n\u001b[0;32m    551\u001b[0m extobj \u001b[39m=\u001b[39m get_linalg_error_extobj(_raise_linalgerror_singular)\n\u001b[1;32m--> 552\u001b[0m ainv \u001b[39m=\u001b[39m _umath_linalg\u001b[39m.\u001b[39;49minv(a, signature\u001b[39m=\u001b[39;49msignature, extobj\u001b[39m=\u001b[39;49mextobj)\n\u001b[0;32m    553\u001b[0m \u001b[39mreturn\u001b[39;00m wrap(ainv\u001b[39m.\u001b[39mastype(result_t, copy\u001b[39m=\u001b[39m\u001b[39mFalse\u001b[39;00m))\n",
      "File \u001b[1;32m~\\AppData\\Roaming\\Python\\Python39\\site-packages\\numpy\\linalg\\linalg.py:89\u001b[0m, in \u001b[0;36m_raise_linalgerror_singular\u001b[1;34m(err, flag)\u001b[0m\n\u001b[0;32m     88\u001b[0m \u001b[39mdef\u001b[39;00m \u001b[39m_raise_linalgerror_singular\u001b[39m(err, flag):\n\u001b[1;32m---> 89\u001b[0m     \u001b[39mraise\u001b[39;00m LinAlgError(\u001b[39m\"\u001b[39m\u001b[39mSingular matrix\u001b[39m\u001b[39m\"\u001b[39m)\n",
      "\u001b[1;31mLinAlgError\u001b[0m: Singular matrix"
     ]
    }
   ],
   "source": [
    "# Calculate the dot product of X and X^T\n",
    "prod = np.dot(X, X.T)\n",
    "\n",
    "# Calculate the pseudoinverse matrix\n",
    "pseudo = np.linalg.inv(prod)\n",
    "\n",
    "# Calculate alpha\n",
    "alpha = np.dot(np.dot(pseudo, X), ys)\n"
   ]
  },
  {
   "cell_type": "markdown",
   "metadata": {},
   "source": [
    "*CORRECT equation should be this:* $\\alpha = (X^TX)^+X^Ty$\n",
    "according to here p. 8 (alpha represented by b): https://www.stat.purdue.edu/~boli/stat512/lectures/topic3.pdf\n",
    "\n"
   ]
  },
  {
   "cell_type": "code",
   "execution_count": 126,
   "metadata": {},
   "outputs": [],
   "source": [
    "pseudomatrix = np.linalg.pinv(np.dot(X.transpose(),X))\n",
    "alpha = np.dot(np.dot(pseudomatrix,X.transpose()),ys) \n",
    "# This calculation is for for the X and X transpose swapped."
   ]
  },
  {
   "cell_type": "code",
   "execution_count": 121,
   "metadata": {},
   "outputs": [
    {
     "name": "stdout",
     "output_type": "stream",
     "text": [
      "(30, 30)\n",
      "(30, 3)\n",
      "(30, 3)\n"
     ]
    },
    {
     "data": {
      "text/plain": [
       "array([-2.42726570e+02,  4.11081309e+02, -1.07680425e+03,  2.49570612e+02,\n",
       "        1.83061620e+00,  1.27762349e+00,  4.19913318e+00, -3.48404975e+02,\n",
       "        1.44142920e+03,  3.52875536e+02, -1.32199663e+02,  1.00990804e+02,\n",
       "       -2.60954074e+02,  1.40260446e+03,  2.22583400e+02,  6.69907994e+02,\n",
       "        1.20071506e+03, -4.42296017e+01,  1.19559327e+00, -8.99679700e+02,\n",
       "       -1.92305360e+00, -5.91158132e+01,  1.60654297e+00,  9.10252085e+00,\n",
       "       -2.16675515e+02, -1.00979822e+03,  1.14862379e+02,  2.50676714e+00,\n",
       "       -5.34657705e+02,  8.08048154e+02])"
      ]
     },
     "execution_count": 121,
     "metadata": {},
     "output_type": "execute_result"
    }
   ],
   "source": [
    "print(pseudomatrix.shape)\n",
    "print(X.shape)\n",
    "print(np.dot(pseudomatrix,X).shape)\n",
    "ys.transpose()"
   ]
  },
  {
   "cell_type": "code",
   "execution_count": 122,
   "metadata": {},
   "outputs": [
    {
     "data": {
      "text/plain": [
       "array([-2.42726570e+02,  4.11081309e+02, -1.07680425e+03,  2.49570612e+02,\n",
       "        1.83061620e+00,  1.27762349e+00,  4.19913318e+00, -3.48404975e+02,\n",
       "        1.44142920e+03,  3.52875536e+02, -1.32199663e+02,  1.00990804e+02,\n",
       "       -2.60954074e+02,  1.40260446e+03,  2.22583400e+02,  6.69907994e+02,\n",
       "        1.20071506e+03, -4.42296017e+01,  1.19559327e+00, -8.99679700e+02,\n",
       "       -1.92305360e+00, -5.91158132e+01,  1.60654297e+00,  9.10252085e+00,\n",
       "       -2.16675515e+02, -1.00979822e+03,  1.14862379e+02,  2.50676714e+00,\n",
       "       -5.34657705e+02,  8.08048154e+02])"
      ]
     },
     "execution_count": 122,
     "metadata": {},
     "output_type": "execute_result"
    }
   ],
   "source": [
    "ys"
   ]
  },
  {
   "cell_type": "markdown",
   "metadata": {},
   "source": [
    "#### Task 10\n",
    "Plot the original data and the computed polynomial which represents our prediction into one chart. Does it fit? We need to compute prediction using alpha from the **Task 9** for the each item in xs.\n",
    "\n",
    "HINT: for first item in xs, prediction is `y_est = h(list(xs)[1],alpha, m)` where alpha is output of the **Task 9** and **m=2**. This needs to be repeated for every element of xs"
   ]
  },
  {
   "cell_type": "code",
   "execution_count": 168,
   "metadata": {},
   "outputs": [
    {
     "data": {
      "text/plain": [
       "-142.58930547605326"
      ]
     },
     "execution_count": 168,
     "metadata": {},
     "output_type": "execute_result"
    }
   ],
   "source": [
    "alpha[0]"
   ]
  },
  {
   "cell_type": "code",
   "execution_count": 170,
   "metadata": {},
   "outputs": [
    {
     "name": "stdout",
     "output_type": "stream",
     "text": [
      "4.409436701576782 63.777051384582876\n"
     ]
    }
   ],
   "source": [
    "m=2\n",
    "y_est = h(list(xs)[1],alpha,m)\n",
    "print(list(xs)[1],y_est)"
   ]
  },
  {
   "cell_type": "code",
   "execution_count": 175,
   "metadata": {},
   "outputs": [],
   "source": [
    "y_pred = h(xs,alpha,m)"
   ]
  },
  {
   "cell_type": "code",
   "execution_count": 177,
   "metadata": {},
   "outputs": [
    {
     "data": {
      "text/plain": [
       "<matplotlib.collections.PathCollection at 0x27b358a6580>"
      ]
     },
     "execution_count": 177,
     "metadata": {},
     "output_type": "execute_result"
    },
    {
     "data": {
      "image/png": "[encoded data removed]",
      "text/plain": [
       "<Figure size 640x480 with 1 Axes>"
      ]
     },
     "metadata": {},
     "output_type": "display_data"
    }
   ],
   "source": [
    "plt.scatter(xs,y_pred)\n",
    "plt.scatter(xs,ys)"
   ]
  },
  {
   "cell_type": "code",
   "execution_count": 189,
   "metadata": {},
   "outputs": [
    {
     "data": {
      "text/plain": [
       "numpy.ndarray"
      ]
     },
     "execution_count": 189,
     "metadata": {},
     "output_type": "execute_result"
    }
   ],
   "source": [
    "type(y_pred)"
   ]
  },
  {
   "cell_type": "markdown",
   "metadata": {},
   "source": [
    "#### Task 11\n",
    "Repeat the process, **tasks 8-10**, for m=3,…,10. What do you observe? Which polynomial has the best fit?"
   ]
  },
  {
   "cell_type": "code",
   "execution_count": 220,
   "metadata": {},
   "outputs": [
    {
     "data": {
      "image/png": "[encoded data removed]",
      "text/plain": [
       "<Figure size 640x480 with 1 Axes>"
      ]
     },
     "metadata": {},
     "output_type": "display_data"
    }
   ],
   "source": [
    "\n",
    "for m in range(2,11):\n",
    "    X=[]\n",
    "    for x in range(len(xs)):\n",
    "        X.append(psi(x,m))\n",
    "    X = np.array(X)\n",
    "    pseudomatrix = np.linalg.pinv(np.dot(X.transpose(),X))\n",
    "    alpha = np.dot(np.dot(pseudomatrix,X.transpose()),ys) \n",
    "    y_pred = h(xs,alpha,m)\n",
    "    plt.scatter(xs,y_pred,label='m='+str(m),s=3)\n",
    "plt.scatter(xs,ys,marker='x',c='black')\n",
    "leg = plt.legend()"
   ]
  },
  {
   "cell_type": "code",
   "execution_count": null,
   "metadata": {},
   "outputs": [],
   "source": []
  },
  {
   "cell_type": "code",
   "execution_count": null,
   "metadata": {},
   "outputs": [],
   "source": []
  },
  {
   "cell_type": "markdown",
   "metadata": {},
   "source": [
    "#### Task 12\n",
    "Plot the value of the loss (defined as $ l(\\alpha^Tx, y) = \\sum(\\alpha^Tx - y)^2 $  ) for m=2,…,10. \n",
    "\n",
    "y is our `ys` from the Task 6 and $\\alpha^Tx$ are our predictions `y_est`. \n",
    "\n",
    "What do you observe? Could you tell the optimal m from the plot?\n",
    "\n",
    "- HINT: loss can be computed as:\n",
    "\n",
    "```\n",
    "def compute_loss(y_est, ys):\n",
    "    return ((y_est - ys)**2).sum()\n",
    "```"
   ]
  },
  {
   "cell_type": "code",
   "execution_count": 188,
   "metadata": {},
   "outputs": [
    {
     "name": "stdout",
     "output_type": "stream",
     "text": [
      "6475493.990691491\n"
     ]
    }
   ],
   "source": [
    "def compute_loss(y_est, ys):\n",
    "    return ((y_est - ys)**2).sum()\n"
   ]
  },
  {
   "cell_type": "code",
   "execution_count": 227,
   "metadata": {},
   "outputs": [
    {
     "data": {
      "image/png": "[encoded data removed]",
      "text/plain": [
       "<Figure size 640x480 with 1 Axes>"
      ]
     },
     "metadata": {},
     "output_type": "display_data"
    }
   ],
   "source": [
    "loss = []\n",
    "for m in range(2,11):\n",
    "    X=[]\n",
    "    for x in range(len(xs)):\n",
    "        X.append(psi(x,m))\n",
    "    X = np.array(X)\n",
    "    pseudomatrix = np.linalg.pinv(np.dot(X.transpose(),X))\n",
    "    alpha = np.dot(np.dot(pseudomatrix,X.transpose()),ys) \n",
    "    y_pred = h(xs,alpha,m)\n",
    "    plt.scatter(xs,y_pred,label='m='+str(m),s=3)\n",
    "    # Calculate loss function\n",
    "    loss.append(compute_loss(y_pred,ys))\n",
    "plt.scatter(xs,ys,marker='x',c='black',label='model')\n",
    "leg = plt.legend(loc='lower right')\n"
   ]
  },
  {
   "cell_type": "code",
   "execution_count": 224,
   "metadata": {},
   "outputs": [
    {
     "data": {
      "text/plain": [
       "[<matplotlib.lines.Line2D at 0x27b48b7ae80>]"
      ]
     },
     "execution_count": 224,
     "metadata": {},
     "output_type": "execute_result"
    },
    {
     "data": {
      "image/png": "[encoded data removed]",
      "text/plain": [
       "<Figure size 640x480 with 1 Axes>"
      ]
     },
     "metadata": {},
     "output_type": "display_data"
    }
   ],
   "source": [
    "plt.plot(range(2,11),loss)"
   ]
  },
  {
   "cell_type": "code",
   "execution_count": null,
   "metadata": {},
   "outputs": [],
   "source": []
  }
 ],
 "metadata": {
  "kernelspec": {
   "display_name": "Python 3.9.13 64-bit",
   "language": "python",
   "name": "python3"
  },
  "language_info": {
   "codemirror_mode": {
    "name": "ipython",
    "version": 3
   },
   "file_extension": ".py",
   "mimetype": "text/x-python",
   "name": "python",
   "nbconvert_exporter": "python",
   "pygments_lexer": "ipython3",
   "version": "3.9.13"
  },
  "vscode": {
   "interpreter": {
    "hash": "11938c6bc6919ae2720b4d5011047913343b08a43b18698fd82dedb0d4417594"
   }
  }
 },
 "nbformat": 4,
 "nbformat_minor": 4
}
